{
  "nbformat": 4,
  "nbformat_minor": 0,
  "metadata": {
    "colab": {
      "provenance": []
    },
    "kernelspec": {
      "name": "python3",
      "display_name": "Python 3"
    },
    "language_info": {
      "name": "python"
    }
  },
  "cells": [
    {
      "cell_type": "markdown",
      "source": [
        "# **1.6.2 Problems**"
      ],
      "metadata": {
        "id": "YtnP96VTbGto"
      }
    },
    {
      "cell_type": "markdown",
      "source": [
        "# Question no 5\n",
        "\n",
        "Finding area of a triangle"
      ],
      "metadata": {
        "id": "BzjWFLgAbb21"
      }
    },
    {
      "cell_type": "code",
      "execution_count": 28,
      "metadata": {
        "colab": {
          "base_uri": "https://localhost:8080/"
        },
        "id": "YLwFm_OyaY0h",
        "outputId": "0c611cb6-0dab-4cfa-f8f1-46c097f550c0"
      },
      "outputs": [
        {
          "output_type": "stream",
          "name": "stdout",
          "text": [
            "Enter the base of the triangle \n",
            "5\n",
            "Enter the height of the triangle \n",
            "3\n",
            "The area of the triangle is  7.5\n"
          ]
        }
      ],
      "source": [
        "b = float(input('Enter the base of the triangle \\n'))  # prompting the user to input the base and height and converting to float\n",
        "h = float(input('Enter the height of the triangle \\n'))\n",
        "Area = 1/2*b*h  # computing the area of the triangle\n",
        "print('The area of the triangle is ', Area)  # displaying the result"
      ]
    },
    {
      "cell_type": "markdown",
      "source": [
        "# Question no 7"
      ],
      "metadata": {
        "id": "z9JQv7mJb_dI"
      }
    },
    {
      "cell_type": "markdown",
      "source": [
        "Finding the slope of a line passing through two points (x1,y1) and (x2,y2)"
      ],
      "metadata": {
        "id": "1IAce_YQcHfL"
      }
    },
    {
      "cell_type": "code",
      "source": [
        "x1 = float(input('Enter the x1 \\n')) # prompting the user to enter the co-ordinates (x1,y1) and (x2,y2)\n",
        "y1 = float(input('Enter the y1 \\n'))\n",
        "x2 = float(input('Enter the x2 \\n'))\n",
        "y2 = float(input('Enter the y2 \\n'))\n",
        "if x2-x1!= 0:  # checking for non undefined slope i.e., not a vertical line case\n",
        "  slope = (y2-y1)/(x2-x1)  # finding the slope\n",
        "  print('The slope of the line is ', slope)\n",
        "else:\n",
        "  print('The slope of the line is undefined and hence the line is vertical')\n"
      ],
      "metadata": {
        "colab": {
          "base_uri": "https://localhost:8080/"
        },
        "id": "O0UpXbmOa-bg",
        "outputId": "22aa6894-4454-4101-f0cf-150b65318421"
      },
      "execution_count": 38,
      "outputs": [
        {
          "output_type": "stream",
          "name": "stdout",
          "text": [
            "Enter the x1 \n",
            "3\n",
            "Enter the y1 \n",
            "4\n",
            "Enter the x2 \n",
            "3\n",
            "Enter the y2 \n",
            "2\n",
            "The slope of the line is undefined and hence the line is vertical\n"
          ]
        }
      ]
    },
    {
      "cell_type": "markdown",
      "source": [
        "# Question 8\n",
        "\n",
        "Distance between two points"
      ],
      "metadata": {
        "id": "tNO87kujdR4Y"
      }
    },
    {
      "cell_type": "code",
      "source": [
        "x1 = float(input('Enter the x1 \\n')) # prompting the user to enter the co-ordinates (x1,y1) and (x2,y2)\n",
        "y1 = float(input('Enter the y1 \\n'))\n",
        "x2 = float(input('Enter the x2 \\n'))\n",
        "y2 = float(input('Enter the y2 \\n'))\n",
        "distance = ((x2-x1)**2+(y2-y1)**2)**0.5  # computing using distance formula\n",
        "print('The distance between the two points is ', distance)"
      ],
      "metadata": {
        "colab": {
          "base_uri": "https://localhost:8080/"
        },
        "id": "SNZELHu9de-r",
        "outputId": "ba8c27af-a543-4614-c471-40c825a51489"
      },
      "execution_count": 32,
      "outputs": [
        {
          "output_type": "stream",
          "name": "stdout",
          "text": [
            "Enter the x1 \n",
            "2\n",
            "Enter the y1 \n",
            "3\n",
            "Enter the x2 \n",
            "4\n",
            "Enter the y2 \n",
            "5\n",
            "The distance between the two points is  2.8284271247461903\n"
          ]
        }
      ]
    },
    {
      "cell_type": "markdown",
      "source": [
        "# Question no 9\n",
        "\n",
        "Find the factorial of 6"
      ],
      "metadata": {
        "id": "jLtIMoTGcyzO"
      }
    },
    {
      "cell_type": "code",
      "source": [
        "from math import factorial  # importing the factorial function\n",
        "print('The factorial of 6 is ', factorial(6))"
      ],
      "metadata": {
        "colab": {
          "base_uri": "https://localhost:8080/"
        },
        "id": "rpIaTqaqclE1",
        "outputId": "3681ff02-86a8-450e-8142-17ad31e503c4"
      },
      "execution_count": 4,
      "outputs": [
        {
          "output_type": "stream",
          "name": "stdout",
          "text": [
            "The factorial of 6 is  720\n"
          ]
        }
      ]
    },
    {
      "cell_type": "markdown",
      "source": [
        "# Question 12\n",
        "\n",
        "Verifying sinh(2)  and (exp(2)-exp(-2))/2 are equal?"
      ],
      "metadata": {
        "id": "zRXoj_G0hqOr"
      }
    },
    {
      "cell_type": "code",
      "source": [
        "from math import sinh, exp  # importing sine hyperbolic and exponential function\n",
        "print('From buit-in function sinh(2) =', sinh(2)) # finding sinh(2) from in-built sine hyperbolic\n",
        "a = (exp(2)-exp(-2))/2 # computing from formula of sine hyperbolic\n",
        "print('From formula sinh(2) =',a)"
      ],
      "metadata": {
        "colab": {
          "base_uri": "https://localhost:8080/"
        },
        "id": "bsWAnQ5WdN2A",
        "outputId": "488f029c-f798-4a0e-823d-66d4dd86368c"
      },
      "execution_count": 40,
      "outputs": [
        {
          "output_type": "stream",
          "name": "stdout",
          "text": [
            "From buit-in function sinh(2) = 3.626860407847019\n",
            "From formula sinh(2) = 3.626860407847019\n"
          ]
        }
      ]
    },
    {
      "cell_type": "markdown",
      "source": [
        "# Question 13\n",
        "Verifying **(sin(x))^2 +  (cos(x))^2 =1** for x, pi, pi/2, pi/3 , pi/4"
      ],
      "metadata": {
        "id": "dVii_WNTirXI"
      }
    },
    {
      "cell_type": "code",
      "source": [
        "from math import sin, cos, pi  # importing all math functions\n",
        "x=pi/4 #, pi/3 , pi, pi/3\n",
        "a = (sin(x))**2 +  (cos(x))**2 # computing the values\n",
        "print(a)"
      ],
      "metadata": {
        "colab": {
          "base_uri": "https://localhost:8080/"
        },
        "id": "XEou7FnChlim",
        "outputId": "42ac902a-4cc8-4294-ceba-e0212be24ba3"
      },
      "execution_count": 41,
      "outputs": [
        {
          "output_type": "stream",
          "name": "stdout",
          "text": [
            "1.0\n"
          ]
        }
      ]
    },
    {
      "cell_type": "markdown",
      "source": [
        "# Question 14\n",
        "\n",
        "find sin87"
      ],
      "metadata": {
        "id": "pCGcrBjwivaA"
      }
    },
    {
      "cell_type": "code",
      "source": [
        "from math import radians\n",
        "degree = 87\n",
        "\n",
        "sin(radians(degree))  # converting degree to radian"
      ],
      "metadata": {
        "colab": {
          "base_uri": "https://localhost:8080/"
        },
        "id": "Sqf7kuqfi4wG",
        "outputId": "b9bcb508-ec15-4e25-dc28-22b4f022b8ff"
      },
      "execution_count": 24,
      "outputs": [
        {
          "output_type": "execute_result",
          "data": {
            "text/plain": [
              "0.9986295347545738"
            ]
          },
          "metadata": {},
          "execution_count": 24
        }
      ]
    },
    {
      "cell_type": "code",
      "source": [
        "sin(pi/6)"
      ],
      "metadata": {
        "colab": {
          "base_uri": "https://localhost:8080/"
        },
        "id": "gep1iUEFm4fs",
        "outputId": "ab75adbe-a459-473d-92c8-01bc9fe9beba"
      },
      "execution_count": 25,
      "outputs": [
        {
          "output_type": "execute_result",
          "data": {
            "text/plain": [
              "0.49999999999999994"
            ]
          },
          "metadata": {},
          "execution_count": 25
        }
      ]
    },
    {
      "cell_type": "code",
      "source": [],
      "metadata": {
        "id": "vG2SwbhWnV5Q"
      },
      "execution_count": null,
      "outputs": []
    }
  ]
}