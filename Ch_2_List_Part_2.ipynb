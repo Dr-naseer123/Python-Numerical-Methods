{
  "nbformat": 4,
  "nbformat_minor": 0,
  "metadata": {
    "colab": {
      "provenance": []
    },
    "kernelspec": {
      "name": "python3",
      "display_name": "Python 3"
    },
    "language_info": {
      "name": "python"
    }
  },
  "cells": [
    {
      "cell_type": "markdown",
      "source": [
        "## **Data structure - List**\n",
        "\n",
        "List is a sequential data structure in Python and can store the elements of type numericals, or strings or other types separated by commas and enclosed by pair of brackets [ ].\n",
        "\n",
        "\n"
      ],
      "metadata": {
        "id": "4iTLWiw9ID2k"
      }
    },
    {
      "cell_type": "code",
      "execution_count": 10,
      "metadata": {
        "colab": {
          "base_uri": "https://localhost:8080/"
        },
        "id": "FmVnFcauH5q0",
        "outputId": "11380d25-1a44-481f-eb17-19d4b4bbb12f"
      },
      "outputs": [
        {
          "output_type": "stream",
          "name": "stdout",
          "text": [
            "[2, 3, -4.2]\n"
          ]
        }
      ],
      "source": [
        "list_1 = [2,3, -4.2]  # list_1 has the elements of numerical (integer and float) type.\n",
        "print(list_1)"
      ]
    },
    {
      "cell_type": "code",
      "source": [
        "list_2 = [4, 'hi', 2.8]  # list_2 has numerical and the string\n",
        "print(list_2)"
      ],
      "metadata": {
        "colab": {
          "base_uri": "https://localhost:8080/"
        },
        "id": "JQBCmOEiJDp0",
        "outputId": "8813d011-f842-4074-db16-cdcd7baa7a18"
      },
      "execution_count": 11,
      "outputs": [
        {
          "output_type": "stream",
          "name": "stdout",
          "text": [
            "[4, 'hi', 2.8]\n"
          ]
        }
      ]
    },
    {
      "cell_type": "markdown",
      "source": [
        "# Nesting the list"
      ],
      "metadata": {
        "id": "crV-7v-HzSL_"
      }
    },
    {
      "cell_type": "code",
      "source": [
        "List_3 = ['a', -3, ['you', 'happy']]  # here the list ['you', 'happy'] is nested in List_3\n",
        "print('Nesting of a list with other some other elements: ', List_3)\n",
        "\n",
        "List_4 = [list_1, list_2] # both List_1 and List_2 are nested and assigned to List_4\n",
        "print('Nesting of two lists namely List_1 and List_2 is: ',List_4)"
      ],
      "metadata": {
        "colab": {
          "base_uri": "https://localhost:8080/"
        },
        "id": "mrAtNpqHJKqS",
        "outputId": "53d91989-c3d2-4336-fe3c-ad2ae8c1734e"
      },
      "execution_count": 14,
      "outputs": [
        {
          "output_type": "stream",
          "name": "stdout",
          "text": [
            "Nesting of a list with other some other elements:  ['a', -3, ['you', 'happy']]\n",
            "Nesting of two lists namely List_1 and List_2 is:  [[2, 3, -4.2], [4, 'hi', 2.8]]\n"
          ]
        }
      ]
    },
    {
      "cell_type": "markdown",
      "source": [
        "# Retrieving the elements from the list\n",
        "\n",
        "We can retrieve the elements by the index like in string\n",
        "\n",
        "Note that index starts from zero in Python"
      ],
      "metadata": {
        "id": "fxZpIlsiLyjt"
      }
    },
    {
      "cell_type": "code",
      "source": [
        "list_1 = [2, 3, -4.2, 'apple', 'India', 'Lion']\n",
        "print(list_1)"
      ],
      "metadata": {
        "colab": {
          "base_uri": "https://localhost:8080/"
        },
        "id": "e2J39hL7JrVL",
        "outputId": "68f9322f-94f1-42ee-a7d7-1a2c02a8265c"
      },
      "execution_count": null,
      "outputs": [
        {
          "output_type": "stream",
          "name": "stdout",
          "text": [
            "[2, 3, -4.2, 'apple', 'India', 'Lion']\n"
          ]
        }
      ]
    },
    {
      "cell_type": "code",
      "source": [
        "list_1[2]  # retrieving the third element from the list_1"
      ],
      "metadata": {
        "colab": {
          "base_uri": "https://localhost:8080/"
        },
        "id": "OWKrdxa2MLgN",
        "outputId": "700592dd-361f-4580-f098-23b10ee305d9"
      },
      "execution_count": null,
      "outputs": [
        {
          "output_type": "execute_result",
          "data": {
            "text/plain": [
              "-4.2"
            ]
          },
          "metadata": {},
          "execution_count": 5
        }
      ]
    },
    {
      "cell_type": "code",
      "source": [
        "list_1[-1] # retrieving the last element from the list_1"
      ],
      "metadata": {
        "colab": {
          "base_uri": "https://localhost:8080/",
          "height": 36
        },
        "id": "8bmYZB_ZMNyb",
        "outputId": "0db33a5a-39f6-4f66-cde5-9eab5d9e297c"
      },
      "execution_count": null,
      "outputs": [
        {
          "output_type": "execute_result",
          "data": {
            "text/plain": [
              "'Lion'"
            ],
            "application/vnd.google.colaboratory.intrinsic+json": {
              "type": "string"
            }
          },
          "metadata": {},
          "execution_count": 6
        }
      ]
    },
    {
      "cell_type": "code",
      "source": [
        "list_1[0]  # retrieving the 1st elements from the list_1"
      ],
      "metadata": {
        "colab": {
          "base_uri": "https://localhost:8080/"
        },
        "id": "t-EuPf9-McKi",
        "outputId": "c873d8ea-74eb-40fa-d462-21b1f8ec0392"
      },
      "execution_count": null,
      "outputs": [
        {
          "output_type": "execute_result",
          "data": {
            "text/plain": [
              "2"
            ]
          },
          "metadata": {},
          "execution_count": 7
        }
      ]
    },
    {
      "cell_type": "code",
      "source": [
        "list_1[1:4]  # getting substring from 2nd to 4th elements"
      ],
      "metadata": {
        "colab": {
          "base_uri": "https://localhost:8080/"
        },
        "id": "hOP7X-U5Mvy8",
        "outputId": "db73ed8a-b7a1-4c3b-ea40-5c114f7e0ec3"
      },
      "execution_count": null,
      "outputs": [
        {
          "output_type": "execute_result",
          "data": {
            "text/plain": [
              "[3, -4.2, 'apple']"
            ]
          },
          "metadata": {},
          "execution_count": 8
        }
      ]
    },
    {
      "cell_type": "code",
      "source": [
        "list_1[:]  # retrieving all the elements"
      ],
      "metadata": {
        "colab": {
          "base_uri": "https://localhost:8080/"
        },
        "id": "49TT7rMENKYX",
        "outputId": "3012f0b2-8857-4b7c-ddb1-42e189e3bb4c"
      },
      "execution_count": null,
      "outputs": [
        {
          "output_type": "execute_result",
          "data": {
            "text/plain": [
              "[2, 3, -4.2, 'apple', 'India', 'Lion']"
            ]
          },
          "metadata": {},
          "execution_count": 9
        }
      ]
    },
    {
      "cell_type": "code",
      "source": [
        "list_1[2:]  # getting substring from 3rd element to last"
      ],
      "metadata": {
        "colab": {
          "base_uri": "https://localhost:8080/"
        },
        "id": "Q_ZoiZzpNk7_",
        "outputId": "07e97ad5-cbaa-4f64-8da9-a9aabbe796ff"
      },
      "execution_count": null,
      "outputs": [
        {
          "output_type": "execute_result",
          "data": {
            "text/plain": [
              "[-4.2, 'apple', 'India', 'Lion']"
            ]
          },
          "metadata": {},
          "execution_count": 10
        }
      ]
    },
    {
      "cell_type": "code",
      "source": [
        "list_1[:3]  # getting substring from 1st to 3rd elements"
      ],
      "metadata": {
        "colab": {
          "base_uri": "https://localhost:8080/"
        },
        "id": "NZjOLUQaNm89",
        "outputId": "747e590a-de53-4a97-eaa4-4a5fb0423b93"
      },
      "execution_count": null,
      "outputs": [
        {
          "output_type": "execute_result",
          "data": {
            "text/plain": [
              "[2, 3, -4.2]"
            ]
          },
          "metadata": {},
          "execution_count": 11
        }
      ]
    },
    {
      "cell_type": "markdown",
      "source": [
        "# length of the list\n",
        "\n",
        "syntax: **len(name_of_the_string)**\n",
        "\n",
        "\n",
        "It gives the number of the elements of the list"
      ],
      "metadata": {
        "id": "fq6tFoemOSdl"
      }
    },
    {
      "cell_type": "code",
      "source": [
        "len(list_1)"
      ],
      "metadata": {
        "colab": {
          "base_uri": "https://localhost:8080/"
        },
        "id": "wOriZxTrOR7I",
        "outputId": "c38fa284-6b74-4373-e10d-d2be9c1108bb"
      },
      "execution_count": null,
      "outputs": [
        {
          "output_type": "execute_result",
          "data": {
            "text/plain": [
              "6"
            ]
          },
          "metadata": {},
          "execution_count": 12
        }
      ]
    },
    {
      "cell_type": "markdown",
      "source": [
        "**Adding new elements to an existing list**\n",
        "\n",
        "We add new element by using append method from the list"
      ],
      "metadata": {
        "id": "m8DWSPXVTFpW"
      }
    },
    {
      "cell_type": "code",
      "source": [
        "list_1"
      ],
      "metadata": {
        "colab": {
          "base_uri": "https://localhost:8080/"
        },
        "id": "mZMY9PlMNtt0",
        "outputId": "dde9cabb-c521-4d0a-d4a3-7253994993ab"
      },
      "execution_count": null,
      "outputs": [
        {
          "output_type": "execute_result",
          "data": {
            "text/plain": [
              "[2, 3, -4.2, 'apple', 'India', 'Lion']"
            ]
          },
          "metadata": {},
          "execution_count": 13
        }
      ]
    },
    {
      "cell_type": "code",
      "source": [
        "list_1.append('Yahoo')"
      ],
      "metadata": {
        "id": "vKftIACVTgwK"
      },
      "execution_count": null,
      "outputs": []
    },
    {
      "cell_type": "code",
      "source": [
        "list_1"
      ],
      "metadata": {
        "colab": {
          "base_uri": "https://localhost:8080/"
        },
        "id": "9NVUpQIXTlhJ",
        "outputId": "3089e6f2-25d2-4275-f1c3-7e4dfbde62c5"
      },
      "execution_count": null,
      "outputs": [
        {
          "output_type": "execute_result",
          "data": {
            "text/plain": [
              "[2, 3, -4.2, 'apple', 'India', 'Lion', 'Yahoo']"
            ]
          },
          "metadata": {},
          "execution_count": 15
        }
      ]
    },
    {
      "cell_type": "code",
      "source": [
        "list_1.append('Naseer','Ayaan')  # can't add more than one element in a list at a time"
      ],
      "metadata": {
        "colab": {
          "base_uri": "https://localhost:8080/",
          "height": 146
        },
        "id": "yWkps1XITnRs",
        "outputId": "56f7c316-4439-46e5-8f9c-4e08e4881345"
      },
      "execution_count": null,
      "outputs": [
        {
          "output_type": "error",
          "ename": "TypeError",
          "evalue": "list.append() takes exactly one argument (2 given)",
          "traceback": [
            "\u001b[0;31m---------------------------------------------------------------------------\u001b[0m",
            "\u001b[0;31mTypeError\u001b[0m                                 Traceback (most recent call last)",
            "\u001b[0;32m/tmp/ipython-input-16-2361972998.py\u001b[0m in \u001b[0;36m<cell line: 0>\u001b[0;34m()\u001b[0m\n\u001b[0;32m----> 1\u001b[0;31m \u001b[0mlist_1\u001b[0m\u001b[0;34m.\u001b[0m\u001b[0mappend\u001b[0m\u001b[0;34m(\u001b[0m\u001b[0;34m'Naseer'\u001b[0m\u001b[0;34m,\u001b[0m\u001b[0;34m'Ayaan'\u001b[0m\u001b[0;34m)\u001b[0m  \u001b[0;31m# can't add more than one element in a liat at a time\u001b[0m\u001b[0;34m\u001b[0m\u001b[0;34m\u001b[0m\u001b[0m\n\u001b[0m",
            "\u001b[0;31mTypeError\u001b[0m: list.append() takes exactly one argument (2 given)"
          ]
        }
      ]
    },
    {
      "cell_type": "markdown",
      "source": [],
      "metadata": {
        "id": "iNT1SwwqAJSy"
      }
    },
    {
      "cell_type": "markdown",
      "source": [
        "#  Concatenation of lists\n",
        "\n",
        "To concatenate we use '+'"
      ],
      "metadata": {
        "id": "vVBU_UPr7fOq"
      }
    },
    {
      "cell_type": "code",
      "source": [
        "print('list_1', list_1) # Displaying lists\n",
        "print('list_2', list_2)\n",
        "print('Concatenating the list_1 and list_2')\n",
        "list_12 = list_1 + list_2  # concatenating both the lists\n",
        "print(list_12)\n",
        "\n",
        "\n",
        "print('Concatenation of the strings will not affect the original strings')\n",
        "print('list_1', list_1)\n",
        "print('list_2', list_2)"
      ],
      "metadata": {
        "colab": {
          "base_uri": "https://localhost:8080/"
        },
        "id": "C_GAfZox-23M",
        "outputId": "6e102a6b-5c84-4241-837b-cb8a3cc963c8"
      },
      "execution_count": 15,
      "outputs": [
        {
          "output_type": "stream",
          "name": "stdout",
          "text": [
            "list_1 [2, 3, -4.2]\n",
            "list_2 [4, 'hi', 2.8]\n",
            "Concatenating the list_1 and list_2\n",
            "[2, 3, -4.2, 4, 'hi', 2.8]\n",
            "Concatenation of the strings will not affect the original strings\n",
            "list_1 [2, 3, -4.2]\n",
            "list_2 [4, 'hi', 2.8]\n"
          ]
        }
      ]
    },
    {
      "cell_type": "markdown",
      "source": [
        "# **insert()**\n",
        "\n",
        "We use the insert function to add element in the desired location\n",
        "\n",
        "syntax:\n",
        "\n",
        "insert(index, element)\n",
        "\n",
        "where element can be any data type"
      ],
      "metadata": {
        "id": "wBR__EWk6Rm5"
      }
    },
    {
      "cell_type": "code",
      "source": [
        "#%f reset\n",
        "\n",
        "print(list_2)\n",
        "list_2.insert(2,'Naseer')\n",
        "print(list_2)"
      ],
      "metadata": {
        "colab": {
          "base_uri": "https://localhost:8080/"
        },
        "id": "pAuc3ZoETyqD",
        "outputId": "ccd2b7e9-fa46-4a6e-8790-32988dac7db2"
      },
      "execution_count": 16,
      "outputs": [
        {
          "output_type": "stream",
          "name": "stdout",
          "text": [
            "[4, 'hi', 2.8]\n",
            "[4, 'hi', 'Naseer', 2.8]\n"
          ]
        }
      ]
    },
    {
      "cell_type": "code",
      "source": [
        "list_2.insert(0, 'Ayaan',2, 'Ahmed')  # insert() can't insert more than one element\n",
        "print(list_2)"
      ],
      "metadata": {
        "colab": {
          "base_uri": "https://localhost:8080/",
          "height": 164
        },
        "id": "aHXOMs9o0tjf",
        "outputId": "e9f6e9af-62d4-4e44-fc21-129200592223"
      },
      "execution_count": 17,
      "outputs": [
        {
          "output_type": "error",
          "ename": "TypeError",
          "evalue": "insert expected 2 arguments, got 4",
          "traceback": [
            "\u001b[0;31m---------------------------------------------------------------------------\u001b[0m",
            "\u001b[0;31mTypeError\u001b[0m                                 Traceback (most recent call last)",
            "\u001b[0;32m/tmp/ipython-input-17-1822363355.py\u001b[0m in \u001b[0;36m<cell line: 0>\u001b[0;34m()\u001b[0m\n\u001b[0;32m----> 1\u001b[0;31m \u001b[0mlist_2\u001b[0m\u001b[0;34m.\u001b[0m\u001b[0minsert\u001b[0m\u001b[0;34m(\u001b[0m\u001b[0;36m0\u001b[0m\u001b[0;34m,\u001b[0m \u001b[0;34m'Ayaan'\u001b[0m\u001b[0;34m,\u001b[0m\u001b[0;36m2\u001b[0m\u001b[0;34m,\u001b[0m \u001b[0;34m'Ahmed'\u001b[0m\u001b[0;34m)\u001b[0m\u001b[0;34m\u001b[0m\u001b[0;34m\u001b[0m\u001b[0m\n\u001b[0m\u001b[1;32m      2\u001b[0m \u001b[0mprint\u001b[0m\u001b[0;34m(\u001b[0m\u001b[0mlist_2\u001b[0m\u001b[0;34m)\u001b[0m\u001b[0;34m\u001b[0m\u001b[0;34m\u001b[0m\u001b[0m\n",
            "\u001b[0;31mTypeError\u001b[0m: insert expected 2 arguments, got 4"
          ]
        }
      ]
    },
    {
      "cell_type": "markdown",
      "source": [
        "# Declaring an empty list\n",
        "\n",
        "lst= [ ]"
      ],
      "metadata": {
        "id": "s5HDOc4kwgM8"
      }
    },
    {
      "cell_type": "code",
      "source": [
        "lst = []\n",
        "print(lst)"
      ],
      "metadata": {
        "id": "6305JcJoBlbm",
        "colab": {
          "base_uri": "https://localhost:8080/"
        },
        "outputId": "8fcd62f0-1156-49a6-c368-576980ce7de1"
      },
      "execution_count": 1,
      "outputs": [
        {
          "output_type": "stream",
          "name": "stdout",
          "text": [
            "[]\n"
          ]
        }
      ]
    },
    {
      "cell_type": "code",
      "source": [
        "lst.append(-4)\n",
        "lst.append('hi')\n",
        "print(lst)"
      ],
      "metadata": {
        "colab": {
          "base_uri": "https://localhost:8080/"
        },
        "id": "Lei5Ns2QwxXz",
        "outputId": "6d6a9986-8853-4e69-b6d6-f4f495d61d40"
      },
      "execution_count": 2,
      "outputs": [
        {
          "output_type": "stream",
          "name": "stdout",
          "text": [
            "[-4, 'hi']\n"
          ]
        }
      ]
    },
    {
      "cell_type": "markdown",
      "source": [
        "# Checkin the presence of an element in a list\n",
        "\n",
        "syntax:\n",
        "\n",
        "element in list_name  \n",
        "\n",
        "Note:\n",
        "\n",
        "If the element is present it will return True otherwise False (Boolean output)."
      ],
      "metadata": {
        "id": "9luIcpunxAkp"
      }
    },
    {
      "cell_type": "code",
      "source": [
        "print(lst)\n",
        "print('Checking the presence of 4 in lst')\n",
        "print(4 in lst)\n",
        "print('Checking the presence of hi in lst')\n",
        "print('hi' in lst)"
      ],
      "metadata": {
        "colab": {
          "base_uri": "https://localhost:8080/"
        },
        "id": "aO3ctNKpw7Lm",
        "outputId": "c65266c3-839d-4840-98fc-051e82c248fb"
      },
      "execution_count": 8,
      "outputs": [
        {
          "output_type": "stream",
          "name": "stdout",
          "text": [
            "[-4, 'hi']\n",
            "Checking the presence of 4 in lst\n",
            "False\n",
            "Checking the presence of hi in lst\n",
            "True\n"
          ]
        }
      ]
    },
    {
      "cell_type": "markdown",
      "source": [
        "# Converting a string into a list of characters.\n",
        "\n",
        "syntax:\n",
        "\n",
        "list(string_name)\n"
      ],
      "metadata": {
        "id": "rL-P8lqvyT2I"
      }
    },
    {
      "cell_type": "code",
      "source": [
        "lst2 = list('Hi, I am from India')\n",
        "print(lst2)"
      ],
      "metadata": {
        "colab": {
          "base_uri": "https://localhost:8080/"
        },
        "id": "ZMEVafufxlcv",
        "outputId": "70cb79db-3e88-4838-cc3c-cadc6db09a07"
      },
      "execution_count": 9,
      "outputs": [
        {
          "output_type": "stream",
          "name": "stdout",
          "text": [
            "['H', 'i', ',', ' ', 'I', ' ', 'a', 'm', ' ', 'f', 'r', 'o', 'm', ' ', 'I', 'n', 'd', 'i', 'a']\n"
          ]
        }
      ]
    },
    {
      "cell_type": "code",
      "source": [],
      "metadata": {
        "id": "FkbddfH7yqCI"
      },
      "execution_count": null,
      "outputs": []
    }
  ]
}