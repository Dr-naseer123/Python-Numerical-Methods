{
  "nbformat": 4,
  "nbformat_minor": 0,
  "metadata": {
    "colab": {
      "provenance": []
    },
    "kernelspec": {
      "name": "python3",
      "display_name": "Python 3"
    },
    "language_info": {
      "name": "python"
    }
  },
  "cells": [
    {
      "cell_type": "code",
      "execution_count": 1,
      "metadata": {
        "colab": {
          "base_uri": "https://localhost:8080/"
        },
        "id": "DtQyFMuXlhcR",
        "outputId": "23038e40-3f8d-4afd-b2a1-9ba91606c150"
      },
      "outputs": [
        {
          "output_type": "execute_result",
          "data": {
            "text/plain": [
              "0.75"
            ]
          },
          "metadata": {},
          "execution_count": 1
        }
      ],
      "source": [
        "3/4\n"
      ]
    },
    {
      "cell_type": "code",
      "source": [
        "_*2  #  using the previous output to compute"
      ],
      "metadata": {
        "colab": {
          "base_uri": "https://localhost:8080/"
        },
        "id": "AmqEW8E-ljD8",
        "outputId": "47126534-5df2-4386-f90f-ea25760bde6e"
      },
      "execution_count": 2,
      "outputs": [
        {
          "output_type": "execute_result",
          "data": {
            "text/plain": [
              "1.5"
            ]
          },
          "metadata": {},
          "execution_count": 2
        }
      ]
    },
    {
      "cell_type": "code",
      "source": [
        "_*5\n"
      ],
      "metadata": {
        "colab": {
          "base_uri": "https://localhost:8080/"
        },
        "id": "ncwrEltplmP1",
        "outputId": "b9b8560f-c99c-4309-dc40-caf3afad5cbf"
      },
      "execution_count": 3,
      "outputs": [
        {
          "output_type": "execute_result",
          "data": {
            "text/plain": [
              "7.5"
            ]
          },
          "metadata": {},
          "execution_count": 3
        }
      ]
    },
    {
      "cell_type": "code",
      "source": [
        "import math"
      ],
      "metadata": {
        "id": "IWj2EhWXlqZq"
      },
      "execution_count": 4,
      "outputs": []
    },
    {
      "cell_type": "code",
      "source": [
        "math.pi"
      ],
      "metadata": {
        "colab": {
          "base_uri": "https://localhost:8080/"
        },
        "id": "yag6OeJimAHA",
        "outputId": "1c75a9b8-aced-4764-a144-8c20d80b7dbf"
      },
      "execution_count": 6,
      "outputs": [
        {
          "output_type": "execute_result",
          "data": {
            "text/plain": [
              "3.141592653589793"
            ]
          },
          "metadata": {},
          "execution_count": 6
        }
      ]
    },
    {
      "cell_type": "code",
      "source": [
        "math.sin(math.pi/2)"
      ],
      "metadata": {
        "colab": {
          "base_uri": "https://localhost:8080/"
        },
        "id": "zqNQnVhpmBVN",
        "outputId": "798b6e68-abda-4447-f054-00c907600083"
      },
      "execution_count": 9,
      "outputs": [
        {
          "output_type": "execute_result",
          "data": {
            "text/plain": [
              "1.0"
            ]
          },
          "metadata": {},
          "execution_count": 9
        }
      ]
    },
    {
      "cell_type": "code",
      "source": [
        "math.sin(math.pi)"
      ],
      "metadata": {
        "colab": {
          "base_uri": "https://localhost:8080/"
        },
        "id": "fv4bfFfumGos",
        "outputId": "63eab240-6161-48f7-833c-ac9c686abd73"
      },
      "execution_count": 10,
      "outputs": [
        {
          "output_type": "execute_result",
          "data": {
            "text/plain": [
              "1.2246467991473532e-16"
            ]
          },
          "metadata": {},
          "execution_count": 10
        }
      ]
    },
    {
      "cell_type": "code",
      "source": [
        "math.factorial? # getting help from python\n"
      ],
      "metadata": {
        "id": "7CoapYFpmbEt"
      },
      "execution_count": 15,
      "outputs": []
    },
    {
      "cell_type": "code",
      "source": [
        "factorial?"
      ],
      "metadata": {
        "colab": {
          "base_uri": "https://localhost:8080/"
        },
        "id": "o6wZuzI-my2N",
        "outputId": "cfa7cee8-9d69-4118-920d-252114ccd7d8"
      },
      "execution_count": 16,
      "outputs": [
        {
          "output_type": "stream",
          "name": "stdout",
          "text": [
            "Object `factorial` not found.\n"
          ]
        }
      ]
    },
    {
      "cell_type": "markdown",
      "source": [
        "# Denoting infinity as not a number by math.inf or math.nan"
      ],
      "metadata": {
        "id": "yy1Dl_Dwof91"
      }
    },
    {
      "cell_type": "code",
      "source": [
        "math.inf  # used to denote not a number"
      ],
      "metadata": {
        "colab": {
          "base_uri": "https://localhost:8080/"
        },
        "id": "vebm76IBnJ6U",
        "outputId": "30c67224-9d4b-451e-abd5-e41a640fb66c"
      },
      "execution_count": 17,
      "outputs": [
        {
          "output_type": "execute_result",
          "data": {
            "text/plain": [
              "inf"
            ]
          },
          "metadata": {},
          "execution_count": 17
        }
      ]
    },
    {
      "cell_type": "code",
      "source": [
        "math.inf*2"
      ],
      "metadata": {
        "colab": {
          "base_uri": "https://localhost:8080/"
        },
        "id": "iYt8e2I2niKO",
        "outputId": "50958957-4c8f-4812-ec4a-fde5a53e9710"
      },
      "execution_count": 18,
      "outputs": [
        {
          "output_type": "execute_result",
          "data": {
            "text/plain": [
              "inf"
            ]
          },
          "metadata": {},
          "execution_count": 18
        }
      ]
    },
    {
      "cell_type": "code",
      "source": [
        "math.inf/math.inf"
      ],
      "metadata": {
        "colab": {
          "base_uri": "https://localhost:8080/"
        },
        "id": "lkNh-fNAnlDt",
        "outputId": "6b39a62d-42c2-499c-e2d0-d7e3e8606279"
      },
      "execution_count": 19,
      "outputs": [
        {
          "output_type": "execute_result",
          "data": {
            "text/plain": [
              "nan"
            ]
          },
          "metadata": {},
          "execution_count": 19
        }
      ]
    },
    {
      "cell_type": "code",
      "source": [
        "math.inf*math.inf"
      ],
      "metadata": {
        "colab": {
          "base_uri": "https://localhost:8080/"
        },
        "id": "RT0gszJqnn_R",
        "outputId": "8c2ed7ef-d043-4054-b6b5-4898cb8758f5"
      },
      "execution_count": 20,
      "outputs": [
        {
          "output_type": "execute_result",
          "data": {
            "text/plain": [
              "inf"
            ]
          },
          "metadata": {},
          "execution_count": 20
        }
      ]
    },
    {
      "cell_type": "code",
      "source": [
        "math.nan"
      ],
      "metadata": {
        "colab": {
          "base_uri": "https://localhost:8080/"
        },
        "id": "oAnFXLCRnroy",
        "outputId": "a5a4eece-3bd4-43bb-9a7f-3c4ab5ce2bec"
      },
      "execution_count": 21,
      "outputs": [
        {
          "output_type": "execute_result",
          "data": {
            "text/plain": [
              "nan"
            ]
          },
          "metadata": {},
          "execution_count": 21
        }
      ]
    },
    {
      "cell_type": "code",
      "source": [
        "math.nan*math.nan"
      ],
      "metadata": {
        "colab": {
          "base_uri": "https://localhost:8080/"
        },
        "id": "cvd_vQhNn63R",
        "outputId": "874c137b-258a-43f5-c0c5-3666c5a0497f"
      },
      "execution_count": 22,
      "outputs": [
        {
          "output_type": "execute_result",
          "data": {
            "text/plain": [
              "nan"
            ]
          },
          "metadata": {},
          "execution_count": 22
        }
      ]
    },
    {
      "cell_type": "code",
      "source": [
        "math.nan/math.nan"
      ],
      "metadata": {
        "colab": {
          "base_uri": "https://localhost:8080/"
        },
        "id": "tK1KwLorn_tW",
        "outputId": "8d459d14-67a3-4f15-f146-ba2021cc844e"
      },
      "execution_count": 23,
      "outputs": [
        {
          "output_type": "execute_result",
          "data": {
            "text/plain": [
              "nan"
            ]
          },
          "metadata": {},
          "execution_count": 23
        }
      ]
    },
    {
      "cell_type": "markdown",
      "source": [
        "#Complex numbers"
      ],
      "metadata": {
        "id": "vQbwXSiQoZGG"
      }
    },
    {
      "cell_type": "code",
      "source": [
        "z=3-4j  # in python the imaginary part is denoted by j instead of i\n",
        "print(z)"
      ],
      "metadata": {
        "colab": {
          "base_uri": "https://localhost:8080/"
        },
        "id": "V6c97A-VoD58",
        "outputId": "f7f6d62a-4195-4bef-f664-3b1348f05831"
      },
      "execution_count": 25,
      "outputs": [
        {
          "output_type": "stream",
          "name": "stdout",
          "text": [
            "(3-4j)\n"
          ]
        }
      ]
    },
    {
      "cell_type": "markdown",
      "source": [
        "# For scientific computing e is used"
      ],
      "metadata": {
        "id": "uBEZT-HppM6Q"
      }
    },
    {
      "cell_type": "code",
      "source": [
        "1e3"
      ],
      "metadata": {
        "colab": {
          "base_uri": "https://localhost:8080/"
        },
        "id": "7EWvWjwmo0uH",
        "outputId": "016147cb-565f-414c-dee9-6e1d5182be15"
      },
      "execution_count": 27,
      "outputs": [
        {
          "output_type": "execute_result",
          "data": {
            "text/plain": [
              "1000.0"
            ]
          },
          "metadata": {},
          "execution_count": 27
        }
      ]
    },
    {
      "cell_type": "code",
      "source": [
        "2e3"
      ],
      "metadata": {
        "colab": {
          "base_uri": "https://localhost:8080/"
        },
        "id": "t9f8TIRwpIoX",
        "outputId": "d5a27e46-e29e-47f2-fada-8752540ca9fc"
      },
      "execution_count": 28,
      "outputs": [
        {
          "output_type": "execute_result",
          "data": {
            "text/plain": [
              "2000.0"
            ]
          },
          "metadata": {},
          "execution_count": 28
        }
      ]
    },
    {
      "cell_type": "code",
      "source": [
        "4e-2"
      ],
      "metadata": {
        "colab": {
          "base_uri": "https://localhost:8080/"
        },
        "id": "h_dpkEgHpXXK",
        "outputId": "9a9e8002-61f6-4cde-c7d2-76e366dc1f81"
      },
      "execution_count": 29,
      "outputs": [
        {
          "output_type": "execute_result",
          "data": {
            "text/plain": [
              "0.04"
            ]
          },
          "metadata": {},
          "execution_count": 29
        }
      ]
    },
    {
      "cell_type": "markdown",
      "source": [
        "# Alternate way to import the math functions"
      ],
      "metadata": {
        "id": "DDzUG5MwprDe"
      }
    },
    {
      "cell_type": "code",
      "source": [
        "from math import sin, pi, cos, tan, log  # one can call any math function using 'from math impport FUNCTION_NAME'"
      ],
      "metadata": {
        "id": "_2R4AVGspa1X"
      },
      "execution_count": 34,
      "outputs": []
    },
    {
      "cell_type": "code",
      "source": [
        "sin(pi/2)"
      ],
      "metadata": {
        "colab": {
          "base_uri": "https://localhost:8080/"
        },
        "id": "eRbYE5v6p5ax",
        "outputId": "6ea0caf7-f7b9-4ac7-f4b8-fdb4c55b3d79"
      },
      "execution_count": 33,
      "outputs": [
        {
          "output_type": "execute_result",
          "data": {
            "text/plain": [
              "1.0"
            ]
          },
          "metadata": {},
          "execution_count": 33
        }
      ]
    },
    {
      "cell_type": "code",
      "source": [
        "log(10)"
      ],
      "metadata": {
        "colab": {
          "base_uri": "https://localhost:8080/"
        },
        "id": "Legnz2tip8Sw",
        "outputId": "8572a625-8dbc-4355-9b0a-f07bc0733228"
      },
      "execution_count": 35,
      "outputs": [
        {
          "output_type": "execute_result",
          "data": {
            "text/plain": [
              "2.302585092994046"
            ]
          },
          "metadata": {},
          "execution_count": 35
        }
      ]
    },
    {
      "cell_type": "code",
      "source": [
        "complex(3,2)  #To represent a complex number in Python we use complex function"
      ],
      "metadata": {
        "colab": {
          "base_uri": "https://localhost:8080/"
        },
        "id": "xyCIDWx4qhum",
        "outputId": "09498ba4-3ff5-4ce5-e0e0-a82241ebd0e2"
      },
      "execution_count": 36,
      "outputs": [
        {
          "output_type": "execute_result",
          "data": {
            "text/plain": [
              "(3+2j)"
            ]
          },
          "metadata": {},
          "execution_count": 36
        }
      ]
    },
    {
      "cell_type": "markdown",
      "source": [
        "**Numerical values data types**\n",
        "\n",
        "int\n",
        "\n",
        "float\n",
        "\n",
        "complex"
      ],
      "metadata": {
        "id": "uXK63Gp8zTAZ"
      }
    },
    {
      "cell_type": "markdown",
      "source": [
        "#  To know the data type"
      ],
      "metadata": {
        "id": "q-kVj7mizou6"
      }
    },
    {
      "cell_type": "code",
      "source": [
        "type(123)"
      ],
      "metadata": {
        "colab": {
          "base_uri": "https://localhost:8080/"
        },
        "id": "sM1vhiQDznbN",
        "outputId": "e1ac92a7-1368-4d6f-cf51-f93a5afeb281"
      },
      "execution_count": 37,
      "outputs": [
        {
          "output_type": "execute_result",
          "data": {
            "text/plain": [
              "int"
            ]
          },
          "metadata": {},
          "execution_count": 37
        }
      ]
    },
    {
      "cell_type": "code",
      "source": [
        "type(2.3)"
      ],
      "metadata": {
        "colab": {
          "base_uri": "https://localhost:8080/"
        },
        "id": "YJijEP4oynmK",
        "outputId": "51acc48b-53ff-4950-c047-33c34e70b312"
      },
      "execution_count": 38,
      "outputs": [
        {
          "output_type": "execute_result",
          "data": {
            "text/plain": [
              "float"
            ]
          },
          "metadata": {},
          "execution_count": 38
        }
      ]
    },
    {
      "cell_type": "code",
      "source": [
        "type('a')"
      ],
      "metadata": {
        "colab": {
          "base_uri": "https://localhost:8080/"
        },
        "id": "oSH9K0mTz08A",
        "outputId": "5fe2f9ba-8657-426f-b71a-7f953b36be3f"
      },
      "execution_count": 40,
      "outputs": [
        {
          "output_type": "execute_result",
          "data": {
            "text/plain": [
              "str"
            ]
          },
          "metadata": {},
          "execution_count": 40
        }
      ]
    },
    {
      "cell_type": "code",
      "source": [
        "type(2-3j)"
      ],
      "metadata": {
        "colab": {
          "base_uri": "https://localhost:8080/"
        },
        "id": "JCIoj6mVz3Cu",
        "outputId": "92d96f51-7ca0-476e-e6ad-0ae8786f29d9"
      },
      "execution_count": 41,
      "outputs": [
        {
          "output_type": "execute_result",
          "data": {
            "text/plain": [
              "complex"
            ]
          },
          "metadata": {},
          "execution_count": 41
        }
      ]
    },
    {
      "cell_type": "markdown",
      "source": [
        "# **Logical Expressions and Operators**"
      ],
      "metadata": {
        "id": "FhAGPNXe1Lhg"
      }
    },
    {
      "cell_type": "markdown",
      "source": [
        "Logical expressions is a statement that can be true or false for example a < b is a logical expression\n",
        "\n",
        "True and False are boolean data type\n",
        "\n",
        "True is equivalent to 1\n",
        "\n",
        "False is equivalent to 0"
      ],
      "metadata": {
        "id": "-QGFeMJd2YAO"
      }
    },
    {
      "cell_type": "code",
      "source": [
        "3<4"
      ],
      "metadata": {
        "colab": {
          "base_uri": "https://localhost:8080/"
        },
        "id": "3NjJIa3l0AyQ",
        "outputId": "d60bd988-cd94-4fcc-9388-b8f0c88d93ff"
      },
      "execution_count": 42,
      "outputs": [
        {
          "output_type": "execute_result",
          "data": {
            "text/plain": [
              "True"
            ]
          },
          "metadata": {},
          "execution_count": 42
        }
      ]
    },
    {
      "cell_type": "code",
      "source": [
        "3>4"
      ],
      "metadata": {
        "colab": {
          "base_uri": "https://localhost:8080/"
        },
        "id": "HgrztQ_e3dk2",
        "outputId": "0161dab8-30a5-4e73-ee20-691e7ecf4417"
      },
      "execution_count": 43,
      "outputs": [
        {
          "output_type": "execute_result",
          "data": {
            "text/plain": [
              "False"
            ]
          },
          "metadata": {},
          "execution_count": 43
        }
      ]
    },
    {
      "cell_type": "markdown",
      "source": [
        "Comparison operators\n",
        "<,>,<=,>=,!= and =="
      ],
      "metadata": {
        "id": "OFMG6iBe3uMs"
      }
    },
    {
      "cell_type": "code",
      "source": [
        "4==4"
      ],
      "metadata": {
        "colab": {
          "base_uri": "https://localhost:8080/"
        },
        "id": "SwSz1T5t3fJJ",
        "outputId": "3d41409b-ed42-46ce-d0dc-b004d38c98d8"
      },
      "execution_count": 44,
      "outputs": [
        {
          "output_type": "execute_result",
          "data": {
            "text/plain": [
              "True"
            ]
          },
          "metadata": {},
          "execution_count": 44
        }
      ]
    },
    {
      "cell_type": "markdown",
      "source": [
        "Logical operators combine two or more logical expressions\n",
        "\n",
        "1. and,  (**'and'** returns true if all the logical expressions are true otherwise false)\n",
        "\n",
        "2. or, (**'or'** returns true if any one of the logical expressions is/are true otherwise false)\n",
        "\n",
        "3. not  (**'not'** returns true/flase, if the given logical expresion is false/true.)"
      ],
      "metadata": {
        "id": "fgvQ3MpPDZPc"
      }
    },
    {
      "cell_type": "code",
      "source": [
        "1+3 >4-6"
      ],
      "metadata": {
        "colab": {
          "base_uri": "https://localhost:8080/"
        },
        "id": "HE4Lzeoh3_DU",
        "outputId": "449c68a7-2065-445f-dda7-2f017851f475"
      },
      "execution_count": 46,
      "outputs": [
        {
          "output_type": "execute_result",
          "data": {
            "text/plain": [
              "True"
            ]
          },
          "metadata": {},
          "execution_count": 46
        }
      ]
    },
    {
      "cell_type": "markdown",
      "source": [
        "# **WARNING**\n",
        "\n",
        "If algebraic operators (+, -, *, /) are used with logical expressions then it will perform algebraic operation with the obtained 1 and 0 which is for true and false respectively."
      ],
      "metadata": {
        "id": "gUwgs3Q3F69m"
      }
    },
    {
      "cell_type": "code",
      "source": [
        "(3>2) + (4>1)"
      ],
      "metadata": {
        "colab": {
          "base_uri": "https://localhost:8080/"
        },
        "id": "4QYmLIAgFOgO",
        "outputId": "abbcb617-5202-466c-9d7e-1fd3ccdefd28"
      },
      "execution_count": 49,
      "outputs": [
        {
          "output_type": "execute_result",
          "data": {
            "text/plain": [
              "2"
            ]
          },
          "metadata": {},
          "execution_count": 49
        }
      ]
    },
    {
      "cell_type": "markdown",
      "source": [
        "# End of the script"
      ],
      "metadata": {
        "id": "MhnveQBcY47f"
      }
    },
    {
      "cell_type": "code",
      "source": [],
      "metadata": {
        "id": "49rFGqCkY7co"
      },
      "execution_count": null,
      "outputs": []
    }
  ]
}