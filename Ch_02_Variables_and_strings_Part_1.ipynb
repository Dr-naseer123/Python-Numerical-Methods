{
  "nbformat": 4,
  "nbformat_minor": 0,
  "metadata": {
    "colab": {
      "provenance": []
    },
    "kernelspec": {
      "name": "python3",
      "display_name": "Python 3"
    },
    "language_info": {
      "name": "python"
    }
  },
  "cells": [
    {
      "cell_type": "markdown",
      "source": [
        "##**Variables and strings**"
      ],
      "metadata": {
        "id": "eS0_sjVz-IDi"
      }
    },
    {
      "cell_type": "markdown",
      "source": [
        "# Variales"
      ],
      "metadata": {
        "id": "6CvLvyer-WB7"
      }
    },
    {
      "cell_type": "code",
      "execution_count": null,
      "metadata": {
        "id": "GXUGJBgg4dxS"
      },
      "outputs": [],
      "source": [
        "x = 3  # initializing variables x and y\n",
        "y = 8.3"
      ]
    },
    {
      "cell_type": "code",
      "source": [
        "z = 1.9"
      ],
      "metadata": {
        "id": "XOdgiiXD4nz9"
      },
      "execution_count": null,
      "outputs": []
    },
    {
      "cell_type": "code",
      "source": [
        "%who # lists all the variable used"
      ],
      "metadata": {
        "colab": {
          "base_uri": "https://localhost:8080/"
        },
        "id": "mq_TvZP24_J7",
        "outputId": "e83f59b6-bb08-43e7-b254-066e89f3bedd"
      },
      "execution_count": null,
      "outputs": [
        {
          "output_type": "stream",
          "name": "stdout",
          "text": [
            "A\t L\t a\t age\t b\t experience\t k\t m\t s\t \n",
            "str1\t str2\t str3\t x\t y\t z\t \n"
          ]
        }
      ]
    },
    {
      "cell_type": "code",
      "source": [
        "%whos # lists all the variable used with data type and the data which the variable has stored"
      ],
      "metadata": {
        "colab": {
          "base_uri": "https://localhost:8080/"
        },
        "id": "bYr6zdTZ5Awv",
        "outputId": "f9f1890e-81ba-4164-bab6-df9276d930a8"
      },
      "execution_count": null,
      "outputs": [
        {
          "output_type": "stream",
          "name": "stdout",
          "text": [
            "Variable     Type        Data/Info\n",
            "----------------------------------\n",
            "A            str          \n",
            "L            str         Hi everybody\n",
            "a            str         Hi, give me \u0004 buns\n",
            "age          int         36\n",
            "b            str         Hi, give me \\4 buns\n",
            "experience   int         12\n",
            "k            str         Hi, give me 4 buns\n",
            "m            NoneType    None\n",
            "s            str         S\n",
            "str1         str         My name is Dr. Naseer Ahmed,\n",
            "str2         str          I am a researcher\n",
            "str3         str         My name is Dr. Naseer Ahmed, I am a researcher\n",
            "x            int         3\n",
            "y            float       8.3\n",
            "z            float       1.9\n"
          ]
        }
      ]
    },
    {
      "cell_type": "code",
      "source": [
        "del x , y  # to clear the specified variables"
      ],
      "metadata": {
        "id": "XgddgTBV5Dzh"
      },
      "execution_count": null,
      "outputs": []
    },
    {
      "cell_type": "code",
      "source": [
        "y  # as the variables are deleted it gives error for 'y'"
      ],
      "metadata": {
        "colab": {
          "base_uri": "https://localhost:8080/",
          "height": 146
        },
        "id": "y7fE23tC6VS5",
        "outputId": "6c867ab2-e179-41e8-ba0c-faf74a58c3d2"
      },
      "execution_count": null,
      "outputs": [
        {
          "output_type": "error",
          "ename": "NameError",
          "evalue": "name 'y' is not defined",
          "traceback": [
            "\u001b[0;31m---------------------------------------------------------------------------\u001b[0m",
            "\u001b[0;31mNameError\u001b[0m                                 Traceback (most recent call last)",
            "\u001b[0;32m/tmp/ipython-input-64-3563912222.py\u001b[0m in \u001b[0;36m<cell line: 0>\u001b[0;34m()\u001b[0m\n\u001b[0;32m----> 1\u001b[0;31m \u001b[0my\u001b[0m\u001b[0;34m\u001b[0m\u001b[0;34m\u001b[0m\u001b[0m\n\u001b[0m",
            "\u001b[0;31mNameError\u001b[0m: name 'y' is not defined"
          ]
        }
      ]
    },
    {
      "cell_type": "code",
      "source": [
        "z"
      ],
      "metadata": {
        "colab": {
          "base_uri": "https://localhost:8080/"
        },
        "id": "6ghQLzKm6bjP",
        "outputId": "05925ec1-deff-493e-a226-cd1a0e0a9129"
      },
      "execution_count": null,
      "outputs": [
        {
          "output_type": "execute_result",
          "data": {
            "text/plain": [
              "1.9"
            ]
          },
          "metadata": {},
          "execution_count": 99
        }
      ]
    },
    {
      "cell_type": "code",
      "source": [
        "%reset  # removes all the variables"
      ],
      "metadata": {
        "id": "PFXA12Iy6eVu"
      },
      "execution_count": null,
      "outputs": []
    },
    {
      "cell_type": "code",
      "source": [
        "z"
      ],
      "metadata": {
        "id": "CvTlYtt26hSC"
      },
      "execution_count": null,
      "outputs": []
    },
    {
      "cell_type": "markdown",
      "source": [
        "The basic data types are\n",
        "\n",
        "integer\n",
        "\n",
        "float\n",
        "\n",
        "string\n",
        "\n",
        "boolean\n",
        "\n",
        "list\n",
        "\n",
        "tuple\n",
        "\n",
        "set\n",
        "\n",
        "dictionary\n",
        "\n"
      ],
      "metadata": {
        "id": "L-E5icFeQUZr"
      }
    },
    {
      "cell_type": "markdown",
      "source": [
        "# **Data Structures**\n",
        "\n",
        "string\n",
        "\n",
        "list\n",
        "\n",
        "tuple\n",
        "\n",
        "set\n",
        "\n",
        "dictionary"
      ],
      "metadata": {
        "id": "XqNCElbtV7Jl"
      }
    },
    {
      "cell_type": "markdown",
      "source": [
        "##**STRING**"
      ],
      "metadata": {
        "id": "sI5gDhShExg-"
      }
    },
    {
      "cell_type": "code",
      "source": [
        "print('Hello Python!')"
      ],
      "metadata": {
        "id": "Sn95-6n86juL",
        "colab": {
          "base_uri": "https://localhost:8080/"
        },
        "outputId": "e9186980-1e9c-4e78-e681-222f8f266bac"
      },
      "execution_count": null,
      "outputs": [
        {
          "output_type": "stream",
          "name": "stdout",
          "text": [
            "Hello Python!\n"
          ]
        }
      ]
    },
    {
      "cell_type": "code",
      "source": [
        "s = 'S'\n",
        "print(s,type(s))  # type() returns the data type of the given variable"
      ],
      "metadata": {
        "colab": {
          "base_uri": "https://localhost:8080/"
        },
        "id": "eHPeRvEPWIKd",
        "outputId": "ff1b923c-3f2a-4ef7-9971-2c2dc908c6f8"
      },
      "execution_count": null,
      "outputs": [
        {
          "output_type": "stream",
          "name": "stdout",
          "text": [
            "S <class 'str'>\n"
          ]
        }
      ]
    },
    {
      "cell_type": "code",
      "source": [
        "L = 'Hi everyobody'\n",
        "print(L,type(L))"
      ],
      "metadata": {
        "colab": {
          "base_uri": "https://localhost:8080/"
        },
        "id": "WnrLX2BlZJ3t",
        "outputId": "7ad59936-2565-45f1-91ca-3cb5f7a456da"
      },
      "execution_count": null,
      "outputs": [
        {
          "output_type": "stream",
          "name": "stdout",
          "text": [
            "Hi everyobody <class 'str'>\n"
          ]
        }
      ]
    },
    {
      "cell_type": "code",
      "source": [
        "A= ' '  # even empty space between the quotes is also a string\n",
        "print(A,type(A))"
      ],
      "metadata": {
        "colab": {
          "base_uri": "https://localhost:8080/"
        },
        "id": "0hzzYIXoZWLk",
        "outputId": "eb270e42-5473-41e2-a7d1-e66a2b2d1015"
      },
      "execution_count": null,
      "outputs": [
        {
          "output_type": "stream",
          "name": "stdout",
          "text": [
            "  <class 'str'>\n"
          ]
        }
      ]
    },
    {
      "cell_type": "code",
      "source": [
        "len(L) # len is in-built function to know the size of the string"
      ],
      "metadata": {
        "colab": {
          "base_uri": "https://localhost:8080/"
        },
        "id": "bXJcfHCUZpx-",
        "outputId": "ba721c9e-b7a2-41b6-c19f-9fa333abca20"
      },
      "execution_count": null,
      "outputs": [
        {
          "output_type": "execute_result",
          "data": {
            "text/plain": [
              "12"
            ]
          },
          "metadata": {},
          "execution_count": 67
        }
      ]
    },
    {
      "cell_type": "code",
      "source": [
        "L"
      ],
      "metadata": {
        "colab": {
          "base_uri": "https://localhost:8080/",
          "height": 36
        },
        "id": "9J0jkgj_aIJM",
        "outputId": "76bd93da-8c36-4f93-ec78-5024a67584bc"
      },
      "execution_count": null,
      "outputs": [
        {
          "output_type": "execute_result",
          "data": {
            "text/plain": [
              "'Hi everybody'"
            ],
            "application/vnd.google.colaboratory.intrinsic+json": {
              "type": "string"
            }
          },
          "metadata": {},
          "execution_count": 68
        }
      ]
    },
    {
      "cell_type": "code",
      "source": [
        "# extracting a character\n",
        "L[3]"
      ],
      "metadata": {
        "colab": {
          "base_uri": "https://localhost:8080/",
          "height": 36
        },
        "id": "7VKpDIoma80Z",
        "outputId": "430b7324-7023-4b6d-d8a1-4cbab8654372"
      },
      "execution_count": null,
      "outputs": [
        {
          "output_type": "execute_result",
          "data": {
            "text/plain": [
              "'e'"
            ],
            "application/vnd.google.colaboratory.intrinsic+json": {
              "type": "string"
            }
          },
          "metadata": {},
          "execution_count": 69
        }
      ]
    },
    {
      "cell_type": "code",
      "source": [
        "# string slicing\n",
        "L[6:]"
      ],
      "metadata": {
        "colab": {
          "base_uri": "https://localhost:8080/",
          "height": 36
        },
        "id": "3u_6m5yybFIf",
        "outputId": "15b99b7d-33e5-4b3a-905e-88fe650b19fb"
      },
      "execution_count": null,
      "outputs": [
        {
          "output_type": "execute_result",
          "data": {
            "text/plain": [
              "'rybody'"
            ],
            "application/vnd.google.colaboratory.intrinsic+json": {
              "type": "string"
            }
          },
          "metadata": {},
          "execution_count": 70
        }
      ]
    },
    {
      "cell_type": "code",
      "source": [
        "L[6:11]"
      ],
      "metadata": {
        "colab": {
          "base_uri": "https://localhost:8080/",
          "height": 36
        },
        "id": "GI-RQYZTbSOc",
        "outputId": "a745cc97-bfe8-483a-fe96-628568761421"
      },
      "execution_count": null,
      "outputs": [
        {
          "output_type": "execute_result",
          "data": {
            "text/plain": [
              "'rybod'"
            ],
            "application/vnd.google.colaboratory.intrinsic+json": {
              "type": "string"
            }
          },
          "metadata": {},
          "execution_count": 71
        }
      ]
    },
    {
      "cell_type": "code",
      "source": [
        "L[:5]"
      ],
      "metadata": {
        "colab": {
          "base_uri": "https://localhost:8080/",
          "height": 36
        },
        "id": "QnXm-lBMbVW6",
        "outputId": "e3b3cb82-af76-4c3c-c5f3-e68cc059ca9d"
      },
      "execution_count": null,
      "outputs": [
        {
          "output_type": "execute_result",
          "data": {
            "text/plain": [
              "'Hi ev'"
            ],
            "application/vnd.google.colaboratory.intrinsic+json": {
              "type": "string"
            }
          },
          "metadata": {},
          "execution_count": 72
        }
      ]
    },
    {
      "cell_type": "code",
      "source": [
        "L"
      ],
      "metadata": {
        "colab": {
          "base_uri": "https://localhost:8080/",
          "height": 36
        },
        "id": "QsDnQhcwbcOq",
        "outputId": "6ab09c85-c7e0-4f68-f9f6-5ff94c171d7e"
      },
      "execution_count": null,
      "outputs": [
        {
          "output_type": "execute_result",
          "data": {
            "text/plain": [
              "'Hi everybody'"
            ],
            "application/vnd.google.colaboratory.intrinsic+json": {
              "type": "string"
            }
          },
          "metadata": {},
          "execution_count": 73
        }
      ]
    },
    {
      "cell_type": "code",
      "source": [
        "L[1:11:2]   # string slicing syntax [start:end:step]"
      ],
      "metadata": {
        "colab": {
          "base_uri": "https://localhost:8080/",
          "height": 36
        },
        "id": "t317P6H6bxnv",
        "outputId": "efa50d65-7396-421e-aaea-010db7ce74ff"
      },
      "execution_count": null,
      "outputs": [
        {
          "output_type": "execute_result",
          "data": {
            "text/plain": [
              "'ieeyo'"
            ],
            "application/vnd.google.colaboratory.intrinsic+json": {
              "type": "string"
            }
          },
          "metadata": {},
          "execution_count": 74
        }
      ]
    },
    {
      "cell_type": "code",
      "source": [
        "L = 'Hi everybody'\n",
        "print(L)"
      ],
      "metadata": {
        "colab": {
          "base_uri": "https://localhost:8080/"
        },
        "id": "JvsXp6p-b3B7",
        "outputId": "0e072bc9-bf2e-4a52-e487-d01eb744e876"
      },
      "execution_count": 2,
      "outputs": [
        {
          "output_type": "stream",
          "name": "stdout",
          "text": [
            "Hi everybody\n"
          ]
        }
      ]
    },
    {
      "cell_type": "markdown",
      "source": [
        "Negative integer gives index from right and it starts with -1"
      ],
      "metadata": {
        "id": "9klUoDQObE9j"
      }
    },
    {
      "cell_type": "code",
      "source": [
        "print(L)\n",
        "print(L[-1]) # gives last character of the given string\n",
        "L[-4:-1] # gives s"
      ],
      "metadata": {
        "id": "zQbxJw3obTfN",
        "colab": {
          "base_uri": "https://localhost:8080/",
          "height": 72
        },
        "outputId": "7229cafe-aaad-4b17-a525-b9d534f6ceb6"
      },
      "execution_count": 3,
      "outputs": [
        {
          "output_type": "stream",
          "name": "stdout",
          "text": [
            "Hi everybody\n",
            "y\n"
          ]
        },
        {
          "output_type": "execute_result",
          "data": {
            "text/plain": [
              "'bod'"
            ],
            "application/vnd.google.colaboratory.intrinsic+json": {
              "type": "string"
            }
          },
          "metadata": {},
          "execution_count": 3
        }
      ]
    },
    {
      "cell_type": "code",
      "source": [
        "L[2:-2]  # here negative index counts from the end of the string"
      ],
      "metadata": {
        "colab": {
          "base_uri": "https://localhost:8080/",
          "height": 36
        },
        "id": "cgNapW70cOen",
        "outputId": "808c2ea5-a0db-40ad-89c2-8629e42e94cc"
      },
      "execution_count": 4,
      "outputs": [
        {
          "output_type": "execute_result",
          "data": {
            "text/plain": [
              "' everybo'"
            ],
            "application/vnd.google.colaboratory.intrinsic+json": {
              "type": "string"
            }
          },
          "metadata": {},
          "execution_count": 4
        }
      ]
    },
    {
      "cell_type": "code",
      "source": [
        "L[::2] # it slice the string from left to right with a step of 2, so the index is 0,2,4,6..."
      ],
      "metadata": {
        "colab": {
          "base_uri": "https://localhost:8080/",
          "height": 36
        },
        "id": "TV4DZBGycT0I",
        "outputId": "b098df35-bced-4144-a6c7-002b6251514d"
      },
      "execution_count": 5,
      "outputs": [
        {
          "output_type": "execute_result",
          "data": {
            "text/plain": [
              "'H vrbd'"
            ],
            "application/vnd.google.colaboratory.intrinsic+json": {
              "type": "string"
            }
          },
          "metadata": {},
          "execution_count": 5
        }
      ]
    },
    {
      "cell_type": "code",
      "source": [
        "L[::-2]  # it slice the string from right end to left with a step of 2 starting with -1, so the index is -1,-3,-5,-7..."
      ],
      "metadata": {
        "colab": {
          "base_uri": "https://localhost:8080/",
          "height": 36
        },
        "id": "PRDFHjZmcwdB",
        "outputId": "54683a86-8f12-480e-8179-c701a5b7e9d2"
      },
      "execution_count": 6,
      "outputs": [
        {
          "output_type": "execute_result",
          "data": {
            "text/plain": [
              "'yoyeei'"
            ],
            "application/vnd.google.colaboratory.intrinsic+json": {
              "type": "string"
            }
          },
          "metadata": {},
          "execution_count": 6
        }
      ]
    },
    {
      "cell_type": "code",
      "source": [
        "k = 'Hi, give me 4 buns'\n",
        "print(k, type(k))\n"
      ],
      "metadata": {
        "colab": {
          "base_uri": "https://localhost:8080/"
        },
        "id": "AuyAY6P3d5_f",
        "outputId": "281dbee2-612b-4d6a-e9b4-f5eab2760300"
      },
      "execution_count": null,
      "outputs": [
        {
          "output_type": "stream",
          "name": "stdout",
          "text": [
            "Hi, give me 4 buns <class 'str'>\n",
            "Hi, give me \u0004 buns <class 'str'>\n",
            "Hi, give me \\4 buns\n"
          ]
        }
      ]
    },
    {
      "cell_type": "markdown",
      "source": [
        "# Concatenation of strings"
      ],
      "metadata": {
        "id": "YYhQjJ4kh74V"
      }
    },
    {
      "cell_type": "code",
      "source": [
        "str1 = 'My name is Dr. Naseer Ahmed,'\n",
        "str2 = ' I am a researcher'\n",
        "str3 = str1 + str2  # to concatenate the two strings use '+'\n",
        "print(str3)\n",
        "print(str1 + str2)"
      ],
      "metadata": {
        "colab": {
          "base_uri": "https://localhost:8080/"
        },
        "id": "hIJVxpiufPPN",
        "outputId": "7aa39891-0a81-4489-ef41-dfb9641fa722"
      },
      "execution_count": null,
      "outputs": [
        {
          "output_type": "stream",
          "name": "stdout",
          "text": [
            "My name is Dr. Naseer Ahmed, I am a researcher\n",
            "My name is Dr. Naseer Ahmed, I am a researcher\n"
          ]
        }
      ]
    },
    {
      "cell_type": "markdown",
      "source": [
        "# converting float or integer to string"
      ],
      "metadata": {
        "id": "FH0h4Noji6Cf"
      }
    },
    {
      "cell_type": "code",
      "source": [
        "x=1\n",
        "y=1.5\n",
        "print(type(x), type(y))"
      ],
      "metadata": {
        "colab": {
          "base_uri": "https://localhost:8080/"
        },
        "id": "QewzywYBiWrc",
        "outputId": "87bcec29-8195-4373-f346-77ae811fe89c"
      },
      "execution_count": null,
      "outputs": [
        {
          "output_type": "stream",
          "name": "stdout",
          "text": [
            "<class 'int'> <class 'float'>\n"
          ]
        }
      ]
    },
    {
      "cell_type": "code",
      "source": [
        "print(type(str(x)), type(str(y)))  # to convert to string use the in-built function 'str'"
      ],
      "metadata": {
        "colab": {
          "base_uri": "https://localhost:8080/"
        },
        "id": "qyOqwRERjJhO",
        "outputId": "49eef86c-2726-4133-d884-d1b1a751f4fb"
      },
      "execution_count": null,
      "outputs": [
        {
          "output_type": "stream",
          "name": "stdout",
          "text": [
            "<class 'str'> <class 'str'>\n"
          ]
        }
      ]
    },
    {
      "cell_type": "markdown",
      "source": [
        "# Methods to manipulate the strings\n",
        "\n",
        "Syntax: string.method_name."
      ],
      "metadata": {
        "id": "b2IUYD4zjsA8"
      }
    },
    {
      "cell_type": "code",
      "source": [
        "L"
      ],
      "metadata": {
        "colab": {
          "base_uri": "https://localhost:8080/",
          "height": 36
        },
        "id": "_wLcK4D9jRvl",
        "outputId": "fd355578-5742-4f90-f754-aa45ff1e13aa"
      },
      "execution_count": null,
      "outputs": [
        {
          "output_type": "execute_result",
          "data": {
            "text/plain": [
              "'Hi everybody'"
            ],
            "application/vnd.google.colaboratory.intrinsic+json": {
              "type": "string"
            }
          },
          "metadata": {},
          "execution_count": 83
        }
      ]
    },
    {
      "cell_type": "code",
      "source": [
        "L.upper()"
      ],
      "metadata": {
        "colab": {
          "base_uri": "https://localhost:8080/",
          "height": 36
        },
        "id": "ozsz_Clnj-XZ",
        "outputId": "1ff6b73b-dbf3-439f-ce7a-005ecb0b9aa6"
      },
      "execution_count": null,
      "outputs": [
        {
          "output_type": "execute_result",
          "data": {
            "text/plain": [
              "'HI EVERYBODY'"
            ],
            "application/vnd.google.colaboratory.intrinsic+json": {
              "type": "string"
            }
          },
          "metadata": {},
          "execution_count": 84
        }
      ]
    },
    {
      "cell_type": "code",
      "source": [
        "L.lower()"
      ],
      "metadata": {
        "colab": {
          "base_uri": "https://localhost:8080/",
          "height": 36
        },
        "id": "UZFc2e1tky7d",
        "outputId": "bfe0666c-0669-4d46-9a06-02764d18e479"
      },
      "execution_count": null,
      "outputs": [
        {
          "output_type": "execute_result",
          "data": {
            "text/plain": [
              "'hi everybody'"
            ],
            "application/vnd.google.colaboratory.intrinsic+json": {
              "type": "string"
            }
          },
          "metadata": {},
          "execution_count": 85
        }
      ]
    },
    {
      "cell_type": "code",
      "source": [
        "L.count('e')  # gives count of the specified character about its occurance"
      ],
      "metadata": {
        "colab": {
          "base_uri": "https://localhost:8080/"
        },
        "id": "kXHezylzlNDb",
        "outputId": "e7edca0c-8ab3-42a2-a838-968975e67dbd"
      },
      "execution_count": 7,
      "outputs": [
        {
          "output_type": "execute_result",
          "data": {
            "text/plain": [
              "2"
            ]
          },
          "metadata": {},
          "execution_count": 7
        }
      ]
    },
    {
      "cell_type": "code",
      "source": [
        "L.count(' ')"
      ],
      "metadata": {
        "colab": {
          "base_uri": "https://localhost:8080/"
        },
        "id": "bHVwLmsUlOh2",
        "outputId": "cf61d78f-3949-40f4-89fc-bcf899846749"
      },
      "execution_count": 8,
      "outputs": [
        {
          "output_type": "execute_result",
          "data": {
            "text/plain": [
              "1"
            ]
          },
          "metadata": {},
          "execution_count": 8
        }
      ]
    },
    {
      "cell_type": "code",
      "source": [
        "L.replace('everybody', 'Naseer')"
      ],
      "metadata": {
        "colab": {
          "base_uri": "https://localhost:8080/",
          "height": 36
        },
        "id": "TcugOFmglZ-s",
        "outputId": "9cdd303d-212d-4bf6-859a-b15c1660a3e6"
      },
      "execution_count": 10,
      "outputs": [
        {
          "output_type": "execute_result",
          "data": {
            "text/plain": [
              "'Hi Naseer'"
            ],
            "application/vnd.google.colaboratory.intrinsic+json": {
              "type": "string"
            }
          },
          "metadata": {},
          "execution_count": 10
        }
      ]
    },
    {
      "cell_type": "code",
      "source": [
        "L[::-1]  # to reverse a string"
      ],
      "metadata": {
        "colab": {
          "base_uri": "https://localhost:8080/",
          "height": 36
        },
        "id": "Yc40AY6K9iTB",
        "outputId": "1e9bd4e8-80a8-4b76-dd75-b17c695f1371"
      },
      "execution_count": null,
      "outputs": [
        {
          "output_type": "execute_result",
          "data": {
            "text/plain": [
              "'ydobyreve iH'"
            ],
            "application/vnd.google.colaboratory.intrinsic+json": {
              "type": "string"
            }
          },
          "metadata": {},
          "execution_count": 89
        }
      ]
    },
    {
      "cell_type": "markdown",
      "source": [],
      "metadata": {
        "id": "r_8-Iukr9gaI"
      }
    },
    {
      "cell_type": "markdown",
      "source": [
        "# f-string i.e., formatted string"
      ],
      "metadata": {
        "id": "mD4Js26fnhFm"
      }
    },
    {
      "cell_type": "code",
      "source": [
        "age = 36\n",
        "experience = 12\n",
        "print(f\"Myself Dr. Naseer Ahmed and my age is {age} with {experience} years of experience\")"
      ],
      "metadata": {
        "colab": {
          "base_uri": "https://localhost:8080/"
        },
        "id": "sciLHY8AloOi",
        "outputId": "edffd505-06e7-4016-9939-863709e5882d"
      },
      "execution_count": null,
      "outputs": [
        {
          "output_type": "stream",
          "name": "stdout",
          "text": [
            "Myself Dr. Naseer Ahmed and my age is 36 with 12 years of experience\n"
          ]
        }
      ]
    },
    {
      "cell_type": "code",
      "source": [
        "print(f'{3*0}')"
      ],
      "metadata": {
        "colab": {
          "base_uri": "https://localhost:8080/"
        },
        "id": "wqgPy-_2oFSp",
        "outputId": "e4ac45c2-55ff-4995-ca8c-be1a2ded32d1"
      },
      "execution_count": null,
      "outputs": [
        {
          "output_type": "stream",
          "name": "stdout",
          "text": [
            "0\n"
          ]
        }
      ]
    },
    {
      "cell_type": "code",
      "source": [
        "_*2"
      ],
      "metadata": {
        "colab": {
          "base_uri": "https://localhost:8080/",
          "height": 36
        },
        "id": "e07BI3oZoR6h",
        "outputId": "21b2d4a9-6612-4492-c4ed-dea60e2d56ce"
      },
      "execution_count": null,
      "outputs": [
        {
          "output_type": "execute_result",
          "data": {
            "text/plain": [
              "'ydobyreve iHydobyreve iH'"
            ],
            "application/vnd.google.colaboratory.intrinsic+json": {
              "type": "string"
            }
          },
          "metadata": {},
          "execution_count": 92
        }
      ]
    },
    {
      "cell_type": "markdown",
      "source": [
        "L"
      ],
      "metadata": {
        "id": "maucw7Q-7Sx6"
      }
    },
    {
      "cell_type": "markdown",
      "source": [
        "# Strings are immutable"
      ],
      "metadata": {
        "id": "30EFdP7T7yhd"
      }
    },
    {
      "cell_type": "code",
      "source": [
        "L"
      ],
      "metadata": {
        "id": "q5okCXjroY4l",
        "colab": {
          "base_uri": "https://localhost:8080/",
          "height": 36
        },
        "outputId": "16709e06-c305-4747-aeef-467afbcd1372"
      },
      "execution_count": null,
      "outputs": [
        {
          "output_type": "execute_result",
          "data": {
            "text/plain": [
              "'Hi everybody'"
            ],
            "application/vnd.google.colaboratory.intrinsic+json": {
              "type": "string"
            }
          },
          "metadata": {},
          "execution_count": 93
        }
      ]
    },
    {
      "cell_type": "code",
      "source": [
        "L.replace('Hi', 'Hello') # we replace 'Hi' by 'Hello'"
      ],
      "metadata": {
        "colab": {
          "base_uri": "https://localhost:8080/",
          "height": 36
        },
        "id": "KSWh3y3K7gZy",
        "outputId": "b82591fd-8d90-4d7e-973d-9b700e92a374"
      },
      "execution_count": null,
      "outputs": [
        {
          "output_type": "execute_result",
          "data": {
            "text/plain": [
              "'Hello everybody'"
            ],
            "application/vnd.google.colaboratory.intrinsic+json": {
              "type": "string"
            }
          },
          "metadata": {},
          "execution_count": 94
        }
      ]
    },
    {
      "cell_type": "code",
      "source": [
        "L # string L remains same"
      ],
      "metadata": {
        "colab": {
          "base_uri": "https://localhost:8080/",
          "height": 36
        },
        "id": "YzuXhGLp7vpP",
        "outputId": "fb75368f-0e1a-4756-fe7a-96449bb729ef"
      },
      "execution_count": 12,
      "outputs": [
        {
          "output_type": "execute_result",
          "data": {
            "text/plain": [
              "'Hi everybody'"
            ],
            "application/vnd.google.colaboratory.intrinsic+json": {
              "type": "string"
            }
          },
          "metadata": {},
          "execution_count": 12
        }
      ]
    },
    {
      "cell_type": "code",
      "source": [
        "m = print('hi')"
      ],
      "metadata": {
        "colab": {
          "base_uri": "https://localhost:8080/"
        },
        "id": "9bl8Bqx37wgS",
        "outputId": "ebfd978e-df7e-41c1-9aef-120ad9426ed3"
      },
      "execution_count": null,
      "outputs": [
        {
          "output_type": "stream",
          "name": "stdout",
          "text": [
            "hi\n"
          ]
        }
      ]
    },
    {
      "cell_type": "code",
      "source": [
        "type(m)  # print inbuilt-in function is always none type"
      ],
      "metadata": {
        "colab": {
          "base_uri": "https://localhost:8080/"
        },
        "id": "V4FfoxsY8c37",
        "outputId": "9089b425-ea44-4d21-d5c2-e697057c08bb"
      },
      "execution_count": null,
      "outputs": [
        {
          "output_type": "execute_result",
          "data": {
            "text/plain": [
              "NoneType"
            ]
          },
          "metadata": {},
          "execution_count": 97
        }
      ]
    },
    {
      "cell_type": "markdown",
      "source": [
        "Changing a character in between of the string"
      ],
      "metadata": {
        "id": "_ZAGpVBB1LPP"
      }
    },
    {
      "cell_type": "code",
      "source": [
        "X = 'My name is Naseer Ahmed'\n",
        "print(X)\n",
        "print(len(X)) # to find the number of characters including spaces\n",
        "print('The postion of N is ',X.index('N'))\n",
        "Y = X[:11] + 'Ayaan ' + X[18:]\n",
        "print(Y)"
      ],
      "metadata": {
        "id": "Mv8l02jv8fem",
        "colab": {
          "base_uri": "https://localhost:8080/"
        },
        "outputId": "70fa1a7c-32fe-4b33-ae54-a4fee0dc02d7"
      },
      "execution_count": 4,
      "outputs": [
        {
          "output_type": "stream",
          "name": "stdout",
          "text": [
            "My name is Naseer Ahmed\n",
            "23\n",
            "The postion of N is  11\n",
            "My name is Ayaan Ahmed\n"
          ]
        }
      ]
    },
    {
      "cell_type": "code",
      "source": [],
      "metadata": {
        "id": "aVz23J8L2RQG"
      },
      "execution_count": null,
      "outputs": []
    }
  ]
}